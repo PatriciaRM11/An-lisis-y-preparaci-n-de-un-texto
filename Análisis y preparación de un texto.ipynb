{
 "cells": [
  {
   "cell_type": "markdown",
   "metadata": {},
   "source": [
    "# Análisis y preparación de un texto \n",
    "\n",
    "&nbsp;\n",
    "\n",
    "\n",
    "\n",
    "\n",
    "\n"
   ]
  },
  {
   "cell_type": "code",
   "execution_count": 2,
   "metadata": {},
   "outputs": [],
   "source": [
    "#Instalamos e importamos libreria lorem"
   ]
  },
  {
   "cell_type": "code",
   "execution_count": 3,
   "metadata": {},
   "outputs": [
    {
     "name": "stdout",
     "output_type": "stream",
     "text": [
      "Requirement already satisfied: lorem in c:\\users\\patricia\\anaconda3\\lib\\site-packages (0.1.1)\n"
     ]
    }
   ],
   "source": [
    "!pip install lorem"
   ]
  },
  {
   "cell_type": "code",
   "execution_count": 4,
   "metadata": {},
   "outputs": [],
   "source": [
    "import lorem"
   ]
  },
  {
   "cell_type": "code",
   "execution_count": 5,
   "metadata": {},
   "outputs": [],
   "source": [
    "#Guardamos en un texto una variable para que no sea diferente cada vez"
   ]
  },
  {
   "cell_type": "code",
   "execution_count": 6,
   "metadata": {},
   "outputs": [
    {
     "data": {
      "text/plain": [
       "'Velit tempora neque velit aliquam est labore. Non non quisquam dolore. Numquam non sit porro. Aliquam dolor eius porro quisquam magnam. Dolorem ipsum neque consectetur non quaerat sit labore. Porro porro non dolor ipsum non labore. Neque quaerat dolore adipisci aliquam dolorem. Sit voluptatem etincidunt adipisci numquam modi magnam. Ipsum sed dolor quaerat magnam sed dolor labore.\\n\\nLabore magnam est sit numquam quiquia sit. Quisquam quiquia voluptatem eius eius sed aliquam quisquam. Dolore amet adipisci magnam quiquia ut non consectetur. Quaerat sit dolor voluptatem modi eius tempora porro. Dolore amet velit dolor non quaerat sit. Sit dolor dolorem velit. Tempora quiquia amet tempora. Labore numquam dolore amet. Eius sit dolor aliquam voluptatem. Ipsum ipsum porro ipsum magnam adipisci adipisci.\\n\\nMagnam numquam neque quaerat quisquam. Porro quisquam dolorem quaerat labore. Magnam dolorem labore dolore. Sed amet quiquia tempora. Ipsum porro quisquam tempora numquam.\\n\\nPorro velit quaerat sed ipsum neque sit. Eius tempora aliquam est quiquia ipsum numquam. Adipisci porro porro consectetur quiquia sit eius. Dolor dolor labore labore ipsum sed. Est etincidunt etincidunt ipsum velit voluptatem etincidunt. Magnam magnam quisquam adipisci adipisci tempora quaerat. Etincidunt sed dolorem aliquam. Dolor ipsum tempora numquam. Magnam non quisquam magnam dolor quaerat. Neque etincidunt quaerat neque sit dolorem aliquam aliquam.\\n\\nSed numquam etincidunt numquam est. Tempora etincidunt ipsum velit. Amet magnam dolorem ipsum dolore ut. Quaerat etincidunt ut adipisci est sit. Quaerat quisquam aliquam ut quaerat sed.'"
      ]
     },
     "execution_count": 6,
     "metadata": {},
     "output_type": "execute_result"
    }
   ],
   "source": [
    "texto=lorem.text()\n",
    "texto"
   ]
  },
  {
   "cell_type": "markdown",
   "metadata": {},
   "source": [
    "# 1. Número total de palabras que contiene el texto\n",
    "&nbsp;"
   ]
  },
  {
   "cell_type": "markdown",
   "metadata": {},
   "source": [
    "**Eliminar los puntos**\n",
    "\n",
    "&nbsp;"
   ]
  },
  {
   "cell_type": "code",
   "execution_count": 7,
   "metadata": {},
   "outputs": [],
   "source": [
    "# Sustituimos los puntos por \"nada\""
   ]
  },
  {
   "cell_type": "code",
   "execution_count": 8,
   "metadata": {},
   "outputs": [
    {
     "data": {
      "text/plain": [
       "'Velit tempora neque velit aliquam est labore Non non quisquam dolore Numquam non sit porro Aliquam dolor eius porro quisquam magnam Dolorem ipsum neque consectetur non quaerat sit labore Porro porro non dolor ipsum non labore Neque quaerat dolore adipisci aliquam dolorem Sit voluptatem etincidunt adipisci numquam modi magnam Ipsum sed dolor quaerat magnam sed dolor labore\\n\\nLabore magnam est sit numquam quiquia sit Quisquam quiquia voluptatem eius eius sed aliquam quisquam Dolore amet adipisci magnam quiquia ut non consectetur Quaerat sit dolor voluptatem modi eius tempora porro Dolore amet velit dolor non quaerat sit Sit dolor dolorem velit Tempora quiquia amet tempora Labore numquam dolore amet Eius sit dolor aliquam voluptatem Ipsum ipsum porro ipsum magnam adipisci adipisci\\n\\nMagnam numquam neque quaerat quisquam Porro quisquam dolorem quaerat labore Magnam dolorem labore dolore Sed amet quiquia tempora Ipsum porro quisquam tempora numquam\\n\\nPorro velit quaerat sed ipsum neque sit Eius tempora aliquam est quiquia ipsum numquam Adipisci porro porro consectetur quiquia sit eius Dolor dolor labore labore ipsum sed Est etincidunt etincidunt ipsum velit voluptatem etincidunt Magnam magnam quisquam adipisci adipisci tempora quaerat Etincidunt sed dolorem aliquam Dolor ipsum tempora numquam Magnam non quisquam magnam dolor quaerat Neque etincidunt quaerat neque sit dolorem aliquam aliquam\\n\\nSed numquam etincidunt numquam est Tempora etincidunt ipsum velit Amet magnam dolorem ipsum dolore ut Quaerat etincidunt ut adipisci est sit Quaerat quisquam aliquam ut quaerat sed'"
      ]
     },
     "execution_count": 8,
     "metadata": {},
     "output_type": "execute_result"
    }
   ],
   "source": [
    "texto_limpio=texto.replace('.','')\n",
    "texto_limpio"
   ]
  },
  {
   "cell_type": "markdown",
   "metadata": {},
   "source": [
    "**Pasar a minúsculas**\n",
    "\n",
    "&nbsp;"
   ]
  },
  {
   "cell_type": "code",
   "execution_count": 9,
   "metadata": {},
   "outputs": [],
   "source": [
    "#Ponemos todas las palabras en minúsculas"
   ]
  },
  {
   "cell_type": "code",
   "execution_count": 10,
   "metadata": {},
   "outputs": [
    {
     "data": {
      "text/plain": [
       "'velit tempora neque velit aliquam est labore non non quisquam dolore numquam non sit porro aliquam dolor eius porro quisquam magnam dolorem ipsum neque consectetur non quaerat sit labore porro porro non dolor ipsum non labore neque quaerat dolore adipisci aliquam dolorem sit voluptatem etincidunt adipisci numquam modi magnam ipsum sed dolor quaerat magnam sed dolor labore\\n\\nlabore magnam est sit numquam quiquia sit quisquam quiquia voluptatem eius eius sed aliquam quisquam dolore amet adipisci magnam quiquia ut non consectetur quaerat sit dolor voluptatem modi eius tempora porro dolore amet velit dolor non quaerat sit sit dolor dolorem velit tempora quiquia amet tempora labore numquam dolore amet eius sit dolor aliquam voluptatem ipsum ipsum porro ipsum magnam adipisci adipisci\\n\\nmagnam numquam neque quaerat quisquam porro quisquam dolorem quaerat labore magnam dolorem labore dolore sed amet quiquia tempora ipsum porro quisquam tempora numquam\\n\\nporro velit quaerat sed ipsum neque sit eius tempora aliquam est quiquia ipsum numquam adipisci porro porro consectetur quiquia sit eius dolor dolor labore labore ipsum sed est etincidunt etincidunt ipsum velit voluptatem etincidunt magnam magnam quisquam adipisci adipisci tempora quaerat etincidunt sed dolorem aliquam dolor ipsum tempora numquam magnam non quisquam magnam dolor quaerat neque etincidunt quaerat neque sit dolorem aliquam aliquam\\n\\nsed numquam etincidunt numquam est tempora etincidunt ipsum velit amet magnam dolorem ipsum dolore ut quaerat etincidunt ut adipisci est sit quaerat quisquam aliquam ut quaerat sed'"
      ]
     },
     "execution_count": 10,
     "metadata": {},
     "output_type": "execute_result"
    }
   ],
   "source": [
    "texto_limpio=texto_limpio.lower()\n",
    "texto_limpio"
   ]
  },
  {
   "cell_type": "code",
   "execution_count": 11,
   "metadata": {},
   "outputs": [
    {
     "data": {
      "text/plain": [
       "str"
      ]
     },
     "execution_count": 11,
     "metadata": {},
     "output_type": "execute_result"
    }
   ],
   "source": [
    "type(texto_limpio)"
   ]
  },
  {
   "cell_type": "markdown",
   "metadata": {},
   "source": [
    "**Extraer las palabras**\n",
    "\n",
    "&nbsp;"
   ]
  },
  {
   "cell_type": "code",
   "execution_count": 12,
   "metadata": {},
   "outputs": [],
   "source": [
    "#El método split (sin argumento) separa las palabras por los espacios \n",
    "#Genera una lista con todas las palabras"
   ]
  },
  {
   "cell_type": "code",
   "execution_count": 13,
   "metadata": {},
   "outputs": [
    {
     "data": {
      "text/plain": [
       "['velit',\n",
       " 'tempora',\n",
       " 'neque',\n",
       " 'velit',\n",
       " 'aliquam',\n",
       " 'est',\n",
       " 'labore',\n",
       " 'non',\n",
       " 'non',\n",
       " 'quisquam',\n",
       " 'dolore',\n",
       " 'numquam',\n",
       " 'non',\n",
       " 'sit',\n",
       " 'porro',\n",
       " 'aliquam',\n",
       " 'dolor',\n",
       " 'eius',\n",
       " 'porro',\n",
       " 'quisquam',\n",
       " 'magnam',\n",
       " 'dolorem',\n",
       " 'ipsum',\n",
       " 'neque',\n",
       " 'consectetur',\n",
       " 'non',\n",
       " 'quaerat',\n",
       " 'sit',\n",
       " 'labore',\n",
       " 'porro',\n",
       " 'porro',\n",
       " 'non',\n",
       " 'dolor',\n",
       " 'ipsum',\n",
       " 'non',\n",
       " 'labore',\n",
       " 'neque',\n",
       " 'quaerat',\n",
       " 'dolore',\n",
       " 'adipisci',\n",
       " 'aliquam',\n",
       " 'dolorem',\n",
       " 'sit',\n",
       " 'voluptatem',\n",
       " 'etincidunt',\n",
       " 'adipisci',\n",
       " 'numquam',\n",
       " 'modi',\n",
       " 'magnam',\n",
       " 'ipsum',\n",
       " 'sed',\n",
       " 'dolor',\n",
       " 'quaerat',\n",
       " 'magnam',\n",
       " 'sed',\n",
       " 'dolor',\n",
       " 'labore',\n",
       " 'labore',\n",
       " 'magnam',\n",
       " 'est',\n",
       " 'sit',\n",
       " 'numquam',\n",
       " 'quiquia',\n",
       " 'sit',\n",
       " 'quisquam',\n",
       " 'quiquia',\n",
       " 'voluptatem',\n",
       " 'eius',\n",
       " 'eius',\n",
       " 'sed',\n",
       " 'aliquam',\n",
       " 'quisquam',\n",
       " 'dolore',\n",
       " 'amet',\n",
       " 'adipisci',\n",
       " 'magnam',\n",
       " 'quiquia',\n",
       " 'ut',\n",
       " 'non',\n",
       " 'consectetur',\n",
       " 'quaerat',\n",
       " 'sit',\n",
       " 'dolor',\n",
       " 'voluptatem',\n",
       " 'modi',\n",
       " 'eius',\n",
       " 'tempora',\n",
       " 'porro',\n",
       " 'dolore',\n",
       " 'amet',\n",
       " 'velit',\n",
       " 'dolor',\n",
       " 'non',\n",
       " 'quaerat',\n",
       " 'sit',\n",
       " 'sit',\n",
       " 'dolor',\n",
       " 'dolorem',\n",
       " 'velit',\n",
       " 'tempora',\n",
       " 'quiquia',\n",
       " 'amet',\n",
       " 'tempora',\n",
       " 'labore',\n",
       " 'numquam',\n",
       " 'dolore',\n",
       " 'amet',\n",
       " 'eius',\n",
       " 'sit',\n",
       " 'dolor',\n",
       " 'aliquam',\n",
       " 'voluptatem',\n",
       " 'ipsum',\n",
       " 'ipsum',\n",
       " 'porro',\n",
       " 'ipsum',\n",
       " 'magnam',\n",
       " 'adipisci',\n",
       " 'adipisci',\n",
       " 'magnam',\n",
       " 'numquam',\n",
       " 'neque',\n",
       " 'quaerat',\n",
       " 'quisquam',\n",
       " 'porro',\n",
       " 'quisquam',\n",
       " 'dolorem',\n",
       " 'quaerat',\n",
       " 'labore',\n",
       " 'magnam',\n",
       " 'dolorem',\n",
       " 'labore',\n",
       " 'dolore',\n",
       " 'sed',\n",
       " 'amet',\n",
       " 'quiquia',\n",
       " 'tempora',\n",
       " 'ipsum',\n",
       " 'porro',\n",
       " 'quisquam',\n",
       " 'tempora',\n",
       " 'numquam',\n",
       " 'porro',\n",
       " 'velit',\n",
       " 'quaerat',\n",
       " 'sed',\n",
       " 'ipsum',\n",
       " 'neque',\n",
       " 'sit',\n",
       " 'eius',\n",
       " 'tempora',\n",
       " 'aliquam',\n",
       " 'est',\n",
       " 'quiquia',\n",
       " 'ipsum',\n",
       " 'numquam',\n",
       " 'adipisci',\n",
       " 'porro',\n",
       " 'porro',\n",
       " 'consectetur',\n",
       " 'quiquia',\n",
       " 'sit',\n",
       " 'eius',\n",
       " 'dolor',\n",
       " 'dolor',\n",
       " 'labore',\n",
       " 'labore',\n",
       " 'ipsum',\n",
       " 'sed',\n",
       " 'est',\n",
       " 'etincidunt',\n",
       " 'etincidunt',\n",
       " 'ipsum',\n",
       " 'velit',\n",
       " 'voluptatem',\n",
       " 'etincidunt',\n",
       " 'magnam',\n",
       " 'magnam',\n",
       " 'quisquam',\n",
       " 'adipisci',\n",
       " 'adipisci',\n",
       " 'tempora',\n",
       " 'quaerat',\n",
       " 'etincidunt',\n",
       " 'sed',\n",
       " 'dolorem',\n",
       " 'aliquam',\n",
       " 'dolor',\n",
       " 'ipsum',\n",
       " 'tempora',\n",
       " 'numquam',\n",
       " 'magnam',\n",
       " 'non',\n",
       " 'quisquam',\n",
       " 'magnam',\n",
       " 'dolor',\n",
       " 'quaerat',\n",
       " 'neque',\n",
       " 'etincidunt',\n",
       " 'quaerat',\n",
       " 'neque',\n",
       " 'sit',\n",
       " 'dolorem',\n",
       " 'aliquam',\n",
       " 'aliquam',\n",
       " 'sed',\n",
       " 'numquam',\n",
       " 'etincidunt',\n",
       " 'numquam',\n",
       " 'est',\n",
       " 'tempora',\n",
       " 'etincidunt',\n",
       " 'ipsum',\n",
       " 'velit',\n",
       " 'amet',\n",
       " 'magnam',\n",
       " 'dolorem',\n",
       " 'ipsum',\n",
       " 'dolore',\n",
       " 'ut',\n",
       " 'quaerat',\n",
       " 'etincidunt',\n",
       " 'ut',\n",
       " 'adipisci',\n",
       " 'est',\n",
       " 'sit',\n",
       " 'quaerat',\n",
       " 'quisquam',\n",
       " 'aliquam',\n",
       " 'ut',\n",
       " 'quaerat',\n",
       " 'sed']"
      ]
     },
     "execution_count": 13,
     "metadata": {},
     "output_type": "execute_result"
    }
   ],
   "source": [
    "palabras=texto_limpio.split()\n",
    "palabras"
   ]
  },
  {
   "cell_type": "markdown",
   "metadata": {},
   "source": [
    "**Contar el número de palabras del texto**\n",
    "\n",
    "&nbsp;"
   ]
  },
  {
   "cell_type": "code",
   "execution_count": 14,
   "metadata": {},
   "outputs": [
    {
     "data": {
      "text/plain": [
       "232"
      ]
     },
     "execution_count": 14,
     "metadata": {},
     "output_type": "execute_result"
    }
   ],
   "source": [
    "len(palabras)"
   ]
  },
  {
   "cell_type": "markdown",
   "metadata": {},
   "source": [
    "# 2.Cuál es el promedio de repeticiones de las palabras\n",
    "\n",
    "&nbsp;"
   ]
  },
  {
   "cell_type": "markdown",
   "metadata": {},
   "source": [
    "**Crear una lista con palabras no repetidas**\n",
    "\n",
    "&nbsp;"
   ]
  },
  {
   "cell_type": "code",
   "execution_count": 15,
   "metadata": {},
   "outputs": [],
   "source": [
    "#Lo pasamos a conjunto para no tener palabras repetidas"
   ]
  },
  {
   "cell_type": "code",
   "execution_count": 16,
   "metadata": {},
   "outputs": [
    {
     "data": {
      "text/plain": [
       "{'adipisci',\n",
       " 'aliquam',\n",
       " 'amet',\n",
       " 'consectetur',\n",
       " 'dolor',\n",
       " 'dolore',\n",
       " 'dolorem',\n",
       " 'eius',\n",
       " 'est',\n",
       " 'etincidunt',\n",
       " 'ipsum',\n",
       " 'labore',\n",
       " 'magnam',\n",
       " 'modi',\n",
       " 'neque',\n",
       " 'non',\n",
       " 'numquam',\n",
       " 'porro',\n",
       " 'quaerat',\n",
       " 'quiquia',\n",
       " 'quisquam',\n",
       " 'sed',\n",
       " 'sit',\n",
       " 'tempora',\n",
       " 'ut',\n",
       " 'velit',\n",
       " 'voluptatem'}"
      ]
     },
     "execution_count": 16,
     "metadata": {},
     "output_type": "execute_result"
    }
   ],
   "source": [
    "palabras_unicas=set(palabras)\n",
    "palabras_unicas"
   ]
  },
  {
   "cell_type": "code",
   "execution_count": 17,
   "metadata": {},
   "outputs": [],
   "source": [
    "#Lo volvemos a pasar a lista"
   ]
  },
  {
   "cell_type": "code",
   "execution_count": 18,
   "metadata": {},
   "outputs": [
    {
     "data": {
      "text/plain": [
       "['tempora',\n",
       " 'quiquia',\n",
       " 'velit',\n",
       " 'etincidunt',\n",
       " 'adipisci',\n",
       " 'non',\n",
       " 'quaerat',\n",
       " 'sit',\n",
       " 'eius',\n",
       " 'neque',\n",
       " 'quisquam',\n",
       " 'dolor',\n",
       " 'modi',\n",
       " 'dolorem',\n",
       " 'labore',\n",
       " 'dolore',\n",
       " 'sed',\n",
       " 'aliquam',\n",
       " 'voluptatem',\n",
       " 'amet',\n",
       " 'porro',\n",
       " 'numquam',\n",
       " 'magnam',\n",
       " 'est',\n",
       " 'ipsum',\n",
       " 'ut',\n",
       " 'consectetur']"
      ]
     },
     "execution_count": 18,
     "metadata": {},
     "output_type": "execute_result"
    }
   ],
   "source": [
    "palabras_unicas=list(palabras_unicas)\n",
    "palabras_unicas"
   ]
  },
  {
   "cell_type": "markdown",
   "metadata": {},
   "source": [
    "**Calcular el número de palabras únicas**\n",
    "\n",
    "&nbsp;"
   ]
  },
  {
   "cell_type": "code",
   "execution_count": 19,
   "metadata": {},
   "outputs": [
    {
     "data": {
      "text/plain": [
       "27"
      ]
     },
     "execution_count": 19,
     "metadata": {},
     "output_type": "execute_result"
    }
   ],
   "source": [
    "len(palabras_unicas)"
   ]
  },
  {
   "cell_type": "markdown",
   "metadata": {},
   "source": [
    "**Promedio de repetición de las palabras en el texto**\n",
    "\n",
    "&nbsp;"
   ]
  },
  {
   "cell_type": "code",
   "execution_count": 20,
   "metadata": {},
   "outputs": [
    {
     "data": {
      "text/plain": [
       "8.592592592592593"
      ]
     },
     "execution_count": 20,
     "metadata": {},
     "output_type": "execute_result"
    }
   ],
   "source": [
    "len(palabras)/len(palabras_unicas)"
   ]
  },
  {
   "cell_type": "code",
   "execution_count": 21,
   "metadata": {},
   "outputs": [
    {
     "data": {
      "text/plain": [
       "8.59"
      ]
     },
     "execution_count": 21,
     "metadata": {},
     "output_type": "execute_result"
    }
   ],
   "source": [
    "round(len(palabras)/len(palabras_unicas),2)"
   ]
  },
  {
   "cell_type": "markdown",
   "metadata": {},
   "source": [
    "# 3. Cómputo de veces que aparece cada palabra en orden alfabético\n",
    "\n",
    "&nbsp;"
   ]
  },
  {
   "cell_type": "markdown",
   "metadata": {},
   "source": [
    "**Ordenar las palabras únicas alfabéticamente**\n",
    "\n",
    "&nbsp;"
   ]
  },
  {
   "cell_type": "code",
   "execution_count": 22,
   "metadata": {},
   "outputs": [
    {
     "data": {
      "text/plain": [
       "['adipisci',\n",
       " 'aliquam',\n",
       " 'amet',\n",
       " 'consectetur',\n",
       " 'dolor',\n",
       " 'dolore',\n",
       " 'dolorem',\n",
       " 'eius',\n",
       " 'est',\n",
       " 'etincidunt',\n",
       " 'ipsum',\n",
       " 'labore',\n",
       " 'magnam',\n",
       " 'modi',\n",
       " 'neque',\n",
       " 'non',\n",
       " 'numquam',\n",
       " 'porro',\n",
       " 'quaerat',\n",
       " 'quiquia',\n",
       " 'quisquam',\n",
       " 'sed',\n",
       " 'sit',\n",
       " 'tempora',\n",
       " 'ut',\n",
       " 'velit',\n",
       " 'voluptatem']"
      ]
     },
     "execution_count": 22,
     "metadata": {},
     "output_type": "execute_result"
    }
   ],
   "source": [
    "palabras_unicas.sort()\n",
    "palabras_unicas"
   ]
  },
  {
   "cell_type": "markdown",
   "metadata": {},
   "source": [
    "**Construir el diccionario**\n",
    "\n",
    "&nbsp;"
   ]
  },
  {
   "cell_type": "code",
   "execution_count": 23,
   "metadata": {},
   "outputs": [],
   "source": [
    "ocurrencias={}"
   ]
  },
  {
   "cell_type": "code",
   "execution_count": 24,
   "metadata": {},
   "outputs": [],
   "source": [
    "#Recordamos cuantas palabras únicas tenemos"
   ]
  },
  {
   "cell_type": "code",
   "execution_count": 25,
   "metadata": {},
   "outputs": [
    {
     "data": {
      "text/plain": [
       "27"
      ]
     },
     "execution_count": 25,
     "metadata": {},
     "output_type": "execute_result"
    }
   ],
   "source": [
    "len(palabras_unicas)"
   ]
  },
  {
   "cell_type": "code",
   "execution_count": 26,
   "metadata": {},
   "outputs": [],
   "source": [
    "#Rellenamos el diccionario uno a uno\n",
    "#La calve será la palabra correspondiente a cada índice\n",
    "#El valor será el recuento de esa palabra"
   ]
  },
  {
   "cell_type": "code",
   "execution_count": 27,
   "metadata": {},
   "outputs": [
    {
     "data": {
      "text/plain": [
       "{'adipisci': 9,\n",
       " 'aliquam': 10,\n",
       " 'amet': 6,\n",
       " 'consectetur': 3,\n",
       " 'dolor': 12,\n",
       " 'dolore': 7,\n",
       " 'dolorem': 8,\n",
       " 'eius': 7,\n",
       " 'est': 6,\n",
       " 'etincidunt': 9,\n",
       " 'ipsum': 14,\n",
       " 'labore': 10,\n",
       " 'magnam': 13,\n",
       " 'modi': 2,\n",
       " 'neque': 7,\n",
       " 'non': 9,\n",
       " 'numquam': 10,\n",
       " 'porro': 11,\n",
       " 'quaerat': 14,\n",
       " 'quiquia': 7,\n",
       " 'quisquam': 10,\n",
       " 'sed': 9,\n",
       " 'sit': 13,\n",
       " 'tempora': 10,\n",
       " 'ut': 4,\n",
       " 'velit': 7,\n",
       " 'voluptatem': 5}"
      ]
     },
     "execution_count": 27,
     "metadata": {},
     "output_type": "execute_result"
    }
   ],
   "source": [
    "ocurrencias[palabras_unicas[0]]=palabras.count(palabras_unicas[0])\n",
    "ocurrencias[palabras_unicas[1]]=palabras.count(palabras_unicas[1])\n",
    "ocurrencias[palabras_unicas[2]]=palabras.count(palabras_unicas[2])\n",
    "ocurrencias[palabras_unicas[3]]=palabras.count(palabras_unicas[3])\n",
    "ocurrencias[palabras_unicas[4]]=palabras.count(palabras_unicas[4])\n",
    "ocurrencias[palabras_unicas[5]]=palabras.count(palabras_unicas[5])\n",
    "ocurrencias[palabras_unicas[6]]=palabras.count(palabras_unicas[6])\n",
    "ocurrencias[palabras_unicas[7]]=palabras.count(palabras_unicas[7])\n",
    "ocurrencias[palabras_unicas[8]]=palabras.count(palabras_unicas[8])\n",
    "ocurrencias[palabras_unicas[9]]=palabras.count(palabras_unicas[9])\n",
    "ocurrencias[palabras_unicas[10]]=palabras.count(palabras_unicas[10])\n",
    "ocurrencias[palabras_unicas[11]]=palabras.count(palabras_unicas[11])\n",
    "ocurrencias[palabras_unicas[12]]=palabras.count(palabras_unicas[12])\n",
    "ocurrencias[palabras_unicas[13]]=palabras.count(palabras_unicas[13])\n",
    "ocurrencias[palabras_unicas[14]]=palabras.count(palabras_unicas[14])\n",
    "ocurrencias[palabras_unicas[15]]=palabras.count(palabras_unicas[15])\n",
    "ocurrencias[palabras_unicas[16]]=palabras.count(palabras_unicas[16])\n",
    "ocurrencias[palabras_unicas[17]]=palabras.count(palabras_unicas[17])\n",
    "ocurrencias[palabras_unicas[18]]=palabras.count(palabras_unicas[18])\n",
    "ocurrencias[palabras_unicas[19]]=palabras.count(palabras_unicas[19])\n",
    "ocurrencias[palabras_unicas[20]]=palabras.count(palabras_unicas[20])\n",
    "ocurrencias[palabras_unicas[21]]=palabras.count(palabras_unicas[21])\n",
    "ocurrencias[palabras_unicas[22]]=palabras.count(palabras_unicas[22])\n",
    "ocurrencias[palabras_unicas[23]]=palabras.count(palabras_unicas[23])\n",
    "ocurrencias[palabras_unicas[24]]=palabras.count(palabras_unicas[24])\n",
    "ocurrencias[palabras_unicas[25]]=palabras.count(palabras_unicas[25])\n",
    "ocurrencias[palabras_unicas[26]]=palabras.count(palabras_unicas[26])\n",
    "\n",
    "ocurrencias"
   ]
  },
  {
   "cell_type": "code",
   "execution_count": 28,
   "metadata": {},
   "outputs": [
    {
     "data": {
      "text/plain": [
       "{'adipisci': 9,\n",
       " 'aliquam': 10,\n",
       " 'amet': 6,\n",
       " 'consectetur': 3,\n",
       " 'dolor': 12,\n",
       " 'dolore': 7,\n",
       " 'dolorem': 8,\n",
       " 'eius': 7,\n",
       " 'est': 6,\n",
       " 'etincidunt': 9,\n",
       " 'ipsum': 14,\n",
       " 'labore': 10,\n",
       " 'magnam': 13,\n",
       " 'modi': 2,\n",
       " 'neque': 7,\n",
       " 'non': 9,\n",
       " 'numquam': 10,\n",
       " 'porro': 11,\n",
       " 'quaerat': 14,\n",
       " 'quiquia': 7,\n",
       " 'quisquam': 10,\n",
       " 'sed': 9,\n",
       " 'sit': 13,\n",
       " 'tempora': 10,\n",
       " 'ut': 4,\n",
       " 'velit': 7,\n",
       " 'voluptatem': 5}"
      ]
     },
     "execution_count": 28,
     "metadata": {},
     "output_type": "execute_result"
    }
   ],
   "source": [
    "#Para no hacerlo de uno en uno\n",
    "\n",
    "for palabra in palabras_unicas:\n",
    "    ocurrencias[palabra]=palabras.count(palabra)\n",
    "ocurrencias    "
   ]
  },
  {
   "cell_type": "markdown",
   "metadata": {},
   "source": [
    "# 4. Cuántas veces aparece la palabra más frecuente y la menos frecuente \n",
    "\n",
    "&nbsp;"
   ]
  },
  {
   "cell_type": "code",
   "execution_count": 29,
   "metadata": {},
   "outputs": [
    {
     "data": {
      "text/plain": [
       "2"
      ]
     },
     "execution_count": 29,
     "metadata": {},
     "output_type": "execute_result"
    }
   ],
   "source": [
    "#La palabra menos frecuente es la que tiene el valor mínimo\n",
    "\n",
    "min(ocurrencias.values())"
   ]
  },
  {
   "cell_type": "code",
   "execution_count": 30,
   "metadata": {},
   "outputs": [
    {
     "data": {
      "text/plain": [
       "14"
      ]
     },
     "execution_count": 30,
     "metadata": {},
     "output_type": "execute_result"
    }
   ],
   "source": [
    "#La palabra más frecuente es la que tiene el valor máximo\n",
    "\n",
    "max(ocurrencias.values())"
   ]
  }
 ],
 "metadata": {
  "kernelspec": {
   "display_name": "Python 3",
   "language": "python",
   "name": "python3"
  },
  "language_info": {
   "codemirror_mode": {
    "name": "ipython",
    "version": 3
   },
   "file_extension": ".py",
   "mimetype": "text/x-python",
   "name": "python",
   "nbconvert_exporter": "python",
   "pygments_lexer": "ipython3",
   "version": "3.8.3"
  }
 },
 "nbformat": 4,
 "nbformat_minor": 4
}
