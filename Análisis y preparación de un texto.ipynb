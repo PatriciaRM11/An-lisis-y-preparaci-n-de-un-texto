{
 "cells": [
  {
   "cell_type": "markdown",
   "metadata": {},
   "source": [
    "# Análisis y preparación de un texto \n",
    "\n",
    "&nbsp;\n",
    "\n",
    "\n",
    "\n",
    "\n",
    "\n"
   ]
  },
  {
   "cell_type": "code",
   "execution_count": 1,
   "metadata": {},
   "outputs": [],
   "source": [
    "#Instalamos e importamos libreria lorem"
   ]
  },
  {
   "cell_type": "code",
   "execution_count": 2,
   "metadata": {},
   "outputs": [
    {
     "name": "stdout",
     "output_type": "stream",
     "text": [
      "Requirement already satisfied: lorem in c:\\users\\patricia\\anaconda3\\lib\\site-packages (0.1.1)\n"
     ]
    }
   ],
   "source": [
    "!pip install lorem"
   ]
  },
  {
   "cell_type": "code",
   "execution_count": 3,
   "metadata": {},
   "outputs": [],
   "source": [
    "import lorem"
   ]
  },
  {
   "cell_type": "code",
   "execution_count": 4,
   "metadata": {},
   "outputs": [],
   "source": [
    "#Guardamos en un texto una variable para que no sea diferente cada vez"
   ]
  },
  {
   "cell_type": "code",
   "execution_count": 5,
   "metadata": {},
   "outputs": [
    {
     "data": {
      "text/plain": [
       "'Dolorem etincidunt ut non magnam. Tempora voluptatem amet quaerat labore magnam quaerat neque. Modi numquam dolore ut ipsum tempora magnam dolore. Velit adipisci consectetur quisquam. Labore eius etincidunt dolor magnam. Porro amet magnam non. Tempora aliquam aliquam modi sit sit magnam. Numquam quiquia ipsum amet velit porro consectetur. Modi est magnam consectetur modi sit tempora.\\n\\nDolorem consectetur sit eius adipisci numquam. Quiquia dolorem tempora numquam. Non neque magnam porro modi. Numquam sed modi sit est etincidunt quiquia. Quisquam non non ipsum porro. Sit modi numquam sed non consectetur. Quiquia voluptatem voluptatem eius voluptatem adipisci sit modi. Quiquia voluptatem consectetur consectetur. Numquam magnam etincidunt numquam dolorem aliquam amet. Consectetur sed quisquam ut.\\n\\nMagnam quaerat numquam non velit. Dolor dolor consectetur quiquia dolore consectetur neque. Dolore quisquam non dolor neque amet non neque. Magnam eius dolore dolorem non. Ipsum labore amet sit tempora dolorem dolore voluptatem. Non porro est dolore etincidunt.\\n\\nQuisquam dolor non quaerat dolorem eius. Etincidunt dolor consectetur etincidunt modi. Velit labore sit sed ipsum quaerat aliquam. Numquam voluptatem quaerat dolorem voluptatem quaerat. Voluptatem dolor quisquam dolore eius ipsum. Amet sed eius sit dolore magnam quaerat. Ipsum tempora tempora porro. Non quiquia neque magnam ut tempora consectetur velit. Dolorem eius adipisci velit neque modi dolor voluptatem.\\n\\nMagnam dolorem tempora est consectetur ipsum est sit. Quiquia adipisci eius numquam adipisci quaerat. Voluptatem dolorem magnam sit sit. Quaerat eius ipsum ipsum. Velit quaerat adipisci quaerat.'"
      ]
     },
     "execution_count": 5,
     "metadata": {},
     "output_type": "execute_result"
    }
   ],
   "source": [
    "texto=lorem.text()\n",
    "texto"
   ]
  },
  {
   "cell_type": "markdown",
   "metadata": {},
   "source": [
    "# 1. Número total de palabras que contiene el texto\n",
    "&nbsp;"
   ]
  },
  {
   "cell_type": "markdown",
   "metadata": {},
   "source": [
    "**Eliminar los puntos**\n",
    "\n",
    "&nbsp;"
   ]
  },
  {
   "cell_type": "code",
   "execution_count": 6,
   "metadata": {},
   "outputs": [],
   "source": [
    "# Sustituimos los puntos por \"nada\""
   ]
  },
  {
   "cell_type": "code",
   "execution_count": 7,
   "metadata": {},
   "outputs": [
    {
     "data": {
      "text/plain": [
       "'Dolorem etincidunt ut non magnam Tempora voluptatem amet quaerat labore magnam quaerat neque Modi numquam dolore ut ipsum tempora magnam dolore Velit adipisci consectetur quisquam Labore eius etincidunt dolor magnam Porro amet magnam non Tempora aliquam aliquam modi sit sit magnam Numquam quiquia ipsum amet velit porro consectetur Modi est magnam consectetur modi sit tempora\\n\\nDolorem consectetur sit eius adipisci numquam Quiquia dolorem tempora numquam Non neque magnam porro modi Numquam sed modi sit est etincidunt quiquia Quisquam non non ipsum porro Sit modi numquam sed non consectetur Quiquia voluptatem voluptatem eius voluptatem adipisci sit modi Quiquia voluptatem consectetur consectetur Numquam magnam etincidunt numquam dolorem aliquam amet Consectetur sed quisquam ut\\n\\nMagnam quaerat numquam non velit Dolor dolor consectetur quiquia dolore consectetur neque Dolore quisquam non dolor neque amet non neque Magnam eius dolore dolorem non Ipsum labore amet sit tempora dolorem dolore voluptatem Non porro est dolore etincidunt\\n\\nQuisquam dolor non quaerat dolorem eius Etincidunt dolor consectetur etincidunt modi Velit labore sit sed ipsum quaerat aliquam Numquam voluptatem quaerat dolorem voluptatem quaerat Voluptatem dolor quisquam dolore eius ipsum Amet sed eius sit dolore magnam quaerat Ipsum tempora tempora porro Non quiquia neque magnam ut tempora consectetur velit Dolorem eius adipisci velit neque modi dolor voluptatem\\n\\nMagnam dolorem tempora est consectetur ipsum est sit Quiquia adipisci eius numquam adipisci quaerat Voluptatem dolorem magnam sit sit Quaerat eius ipsum ipsum Velit quaerat adipisci quaerat'"
      ]
     },
     "execution_count": 7,
     "metadata": {},
     "output_type": "execute_result"
    }
   ],
   "source": [
    "texto_limpio=texto.replace('.','')\n",
    "texto_limpio"
   ]
  },
  {
   "cell_type": "markdown",
   "metadata": {},
   "source": [
    "**Pasar a minúsculas**\n",
    "\n",
    "&nbsp;"
   ]
  },
  {
   "cell_type": "code",
   "execution_count": 8,
   "metadata": {},
   "outputs": [],
   "source": [
    "#Ponemos todas las palabras en minúsculas"
   ]
  },
  {
   "cell_type": "code",
   "execution_count": 9,
   "metadata": {},
   "outputs": [
    {
     "data": {
      "text/plain": [
       "'dolorem etincidunt ut non magnam tempora voluptatem amet quaerat labore magnam quaerat neque modi numquam dolore ut ipsum tempora magnam dolore velit adipisci consectetur quisquam labore eius etincidunt dolor magnam porro amet magnam non tempora aliquam aliquam modi sit sit magnam numquam quiquia ipsum amet velit porro consectetur modi est magnam consectetur modi sit tempora\\n\\ndolorem consectetur sit eius adipisci numquam quiquia dolorem tempora numquam non neque magnam porro modi numquam sed modi sit est etincidunt quiquia quisquam non non ipsum porro sit modi numquam sed non consectetur quiquia voluptatem voluptatem eius voluptatem adipisci sit modi quiquia voluptatem consectetur consectetur numquam magnam etincidunt numquam dolorem aliquam amet consectetur sed quisquam ut\\n\\nmagnam quaerat numquam non velit dolor dolor consectetur quiquia dolore consectetur neque dolore quisquam non dolor neque amet non neque magnam eius dolore dolorem non ipsum labore amet sit tempora dolorem dolore voluptatem non porro est dolore etincidunt\\n\\nquisquam dolor non quaerat dolorem eius etincidunt dolor consectetur etincidunt modi velit labore sit sed ipsum quaerat aliquam numquam voluptatem quaerat dolorem voluptatem quaerat voluptatem dolor quisquam dolore eius ipsum amet sed eius sit dolore magnam quaerat ipsum tempora tempora porro non quiquia neque magnam ut tempora consectetur velit dolorem eius adipisci velit neque modi dolor voluptatem\\n\\nmagnam dolorem tempora est consectetur ipsum est sit quiquia adipisci eius numquam adipisci quaerat voluptatem dolorem magnam sit sit quaerat eius ipsum ipsum velit quaerat adipisci quaerat'"
      ]
     },
     "execution_count": 9,
     "metadata": {},
     "output_type": "execute_result"
    }
   ],
   "source": [
    "texto_limpio=texto_limpio.lower()\n",
    "texto_limpio"
   ]
  },
  {
   "cell_type": "code",
   "execution_count": 10,
   "metadata": {},
   "outputs": [
    {
     "data": {
      "text/plain": [
       "str"
      ]
     },
     "execution_count": 10,
     "metadata": {},
     "output_type": "execute_result"
    }
   ],
   "source": [
    "type(texto_limpio)"
   ]
  },
  {
   "cell_type": "markdown",
   "metadata": {},
   "source": [
    "**Extraer las palabras**\n",
    "\n",
    "&nbsp;"
   ]
  },
  {
   "cell_type": "code",
   "execution_count": 11,
   "metadata": {},
   "outputs": [],
   "source": [
    "#El método split (sin argumento) separa las palabras por los espacios \n",
    "#Genera una lista con todas las palabras"
   ]
  },
  {
   "cell_type": "code",
   "execution_count": 12,
   "metadata": {},
   "outputs": [
    {
     "data": {
      "text/plain": [
       "['dolorem',\n",
       " 'etincidunt',\n",
       " 'ut',\n",
       " 'non',\n",
       " 'magnam',\n",
       " 'tempora',\n",
       " 'voluptatem',\n",
       " 'amet',\n",
       " 'quaerat',\n",
       " 'labore',\n",
       " 'magnam',\n",
       " 'quaerat',\n",
       " 'neque',\n",
       " 'modi',\n",
       " 'numquam',\n",
       " 'dolore',\n",
       " 'ut',\n",
       " 'ipsum',\n",
       " 'tempora',\n",
       " 'magnam',\n",
       " 'dolore',\n",
       " 'velit',\n",
       " 'adipisci',\n",
       " 'consectetur',\n",
       " 'quisquam',\n",
       " 'labore',\n",
       " 'eius',\n",
       " 'etincidunt',\n",
       " 'dolor',\n",
       " 'magnam',\n",
       " 'porro',\n",
       " 'amet',\n",
       " 'magnam',\n",
       " 'non',\n",
       " 'tempora',\n",
       " 'aliquam',\n",
       " 'aliquam',\n",
       " 'modi',\n",
       " 'sit',\n",
       " 'sit',\n",
       " 'magnam',\n",
       " 'numquam',\n",
       " 'quiquia',\n",
       " 'ipsum',\n",
       " 'amet',\n",
       " 'velit',\n",
       " 'porro',\n",
       " 'consectetur',\n",
       " 'modi',\n",
       " 'est',\n",
       " 'magnam',\n",
       " 'consectetur',\n",
       " 'modi',\n",
       " 'sit',\n",
       " 'tempora',\n",
       " 'dolorem',\n",
       " 'consectetur',\n",
       " 'sit',\n",
       " 'eius',\n",
       " 'adipisci',\n",
       " 'numquam',\n",
       " 'quiquia',\n",
       " 'dolorem',\n",
       " 'tempora',\n",
       " 'numquam',\n",
       " 'non',\n",
       " 'neque',\n",
       " 'magnam',\n",
       " 'porro',\n",
       " 'modi',\n",
       " 'numquam',\n",
       " 'sed',\n",
       " 'modi',\n",
       " 'sit',\n",
       " 'est',\n",
       " 'etincidunt',\n",
       " 'quiquia',\n",
       " 'quisquam',\n",
       " 'non',\n",
       " 'non',\n",
       " 'ipsum',\n",
       " 'porro',\n",
       " 'sit',\n",
       " 'modi',\n",
       " 'numquam',\n",
       " 'sed',\n",
       " 'non',\n",
       " 'consectetur',\n",
       " 'quiquia',\n",
       " 'voluptatem',\n",
       " 'voluptatem',\n",
       " 'eius',\n",
       " 'voluptatem',\n",
       " 'adipisci',\n",
       " 'sit',\n",
       " 'modi',\n",
       " 'quiquia',\n",
       " 'voluptatem',\n",
       " 'consectetur',\n",
       " 'consectetur',\n",
       " 'numquam',\n",
       " 'magnam',\n",
       " 'etincidunt',\n",
       " 'numquam',\n",
       " 'dolorem',\n",
       " 'aliquam',\n",
       " 'amet',\n",
       " 'consectetur',\n",
       " 'sed',\n",
       " 'quisquam',\n",
       " 'ut',\n",
       " 'magnam',\n",
       " 'quaerat',\n",
       " 'numquam',\n",
       " 'non',\n",
       " 'velit',\n",
       " 'dolor',\n",
       " 'dolor',\n",
       " 'consectetur',\n",
       " 'quiquia',\n",
       " 'dolore',\n",
       " 'consectetur',\n",
       " 'neque',\n",
       " 'dolore',\n",
       " 'quisquam',\n",
       " 'non',\n",
       " 'dolor',\n",
       " 'neque',\n",
       " 'amet',\n",
       " 'non',\n",
       " 'neque',\n",
       " 'magnam',\n",
       " 'eius',\n",
       " 'dolore',\n",
       " 'dolorem',\n",
       " 'non',\n",
       " 'ipsum',\n",
       " 'labore',\n",
       " 'amet',\n",
       " 'sit',\n",
       " 'tempora',\n",
       " 'dolorem',\n",
       " 'dolore',\n",
       " 'voluptatem',\n",
       " 'non',\n",
       " 'porro',\n",
       " 'est',\n",
       " 'dolore',\n",
       " 'etincidunt',\n",
       " 'quisquam',\n",
       " 'dolor',\n",
       " 'non',\n",
       " 'quaerat',\n",
       " 'dolorem',\n",
       " 'eius',\n",
       " 'etincidunt',\n",
       " 'dolor',\n",
       " 'consectetur',\n",
       " 'etincidunt',\n",
       " 'modi',\n",
       " 'velit',\n",
       " 'labore',\n",
       " 'sit',\n",
       " 'sed',\n",
       " 'ipsum',\n",
       " 'quaerat',\n",
       " 'aliquam',\n",
       " 'numquam',\n",
       " 'voluptatem',\n",
       " 'quaerat',\n",
       " 'dolorem',\n",
       " 'voluptatem',\n",
       " 'quaerat',\n",
       " 'voluptatem',\n",
       " 'dolor',\n",
       " 'quisquam',\n",
       " 'dolore',\n",
       " 'eius',\n",
       " 'ipsum',\n",
       " 'amet',\n",
       " 'sed',\n",
       " 'eius',\n",
       " 'sit',\n",
       " 'dolore',\n",
       " 'magnam',\n",
       " 'quaerat',\n",
       " 'ipsum',\n",
       " 'tempora',\n",
       " 'tempora',\n",
       " 'porro',\n",
       " 'non',\n",
       " 'quiquia',\n",
       " 'neque',\n",
       " 'magnam',\n",
       " 'ut',\n",
       " 'tempora',\n",
       " 'consectetur',\n",
       " 'velit',\n",
       " 'dolorem',\n",
       " 'eius',\n",
       " 'adipisci',\n",
       " 'velit',\n",
       " 'neque',\n",
       " 'modi',\n",
       " 'dolor',\n",
       " 'voluptatem',\n",
       " 'magnam',\n",
       " 'dolorem',\n",
       " 'tempora',\n",
       " 'est',\n",
       " 'consectetur',\n",
       " 'ipsum',\n",
       " 'est',\n",
       " 'sit',\n",
       " 'quiquia',\n",
       " 'adipisci',\n",
       " 'eius',\n",
       " 'numquam',\n",
       " 'adipisci',\n",
       " 'quaerat',\n",
       " 'voluptatem',\n",
       " 'dolorem',\n",
       " 'magnam',\n",
       " 'sit',\n",
       " 'sit',\n",
       " 'quaerat',\n",
       " 'eius',\n",
       " 'ipsum',\n",
       " 'ipsum',\n",
       " 'velit',\n",
       " 'quaerat',\n",
       " 'adipisci',\n",
       " 'quaerat']"
      ]
     },
     "execution_count": 12,
     "metadata": {},
     "output_type": "execute_result"
    }
   ],
   "source": [
    "palabras=texto_limpio.split()\n",
    "palabras"
   ]
  },
  {
   "cell_type": "markdown",
   "metadata": {},
   "source": [
    "**Contar el número de palabras del texto**\n",
    "\n",
    "&nbsp;"
   ]
  },
  {
   "cell_type": "code",
   "execution_count": 13,
   "metadata": {},
   "outputs": [
    {
     "data": {
      "text/plain": [
       "233"
      ]
     },
     "execution_count": 13,
     "metadata": {},
     "output_type": "execute_result"
    }
   ],
   "source": [
    "len(palabras)"
   ]
  },
  {
   "cell_type": "markdown",
   "metadata": {},
   "source": [
    "# 2.Cuál es el promedio de repeticiones de las palabras\n",
    "\n",
    "&nbsp;"
   ]
  },
  {
   "cell_type": "markdown",
   "metadata": {},
   "source": [
    "**Crear una lista con palabras no repetidas**\n",
    "\n",
    "&nbsp;"
   ]
  },
  {
   "cell_type": "code",
   "execution_count": 14,
   "metadata": {},
   "outputs": [],
   "source": [
    "#Lo pasamos a conjunto para no tener palabras repetidas"
   ]
  },
  {
   "cell_type": "code",
   "execution_count": 15,
   "metadata": {},
   "outputs": [
    {
     "data": {
      "text/plain": [
       "{'adipisci',\n",
       " 'aliquam',\n",
       " 'amet',\n",
       " 'consectetur',\n",
       " 'dolor',\n",
       " 'dolore',\n",
       " 'dolorem',\n",
       " 'eius',\n",
       " 'est',\n",
       " 'etincidunt',\n",
       " 'ipsum',\n",
       " 'labore',\n",
       " 'magnam',\n",
       " 'modi',\n",
       " 'neque',\n",
       " 'non',\n",
       " 'numquam',\n",
       " 'porro',\n",
       " 'quaerat',\n",
       " 'quiquia',\n",
       " 'quisquam',\n",
       " 'sed',\n",
       " 'sit',\n",
       " 'tempora',\n",
       " 'ut',\n",
       " 'velit',\n",
       " 'voluptatem'}"
      ]
     },
     "execution_count": 15,
     "metadata": {},
     "output_type": "execute_result"
    }
   ],
   "source": [
    "palabras_unicas=set(palabras)\n",
    "palabras_unicas"
   ]
  },
  {
   "cell_type": "code",
   "execution_count": 16,
   "metadata": {},
   "outputs": [],
   "source": [
    "#Lo volvemos a pasar a lista"
   ]
  },
  {
   "cell_type": "code",
   "execution_count": 17,
   "metadata": {},
   "outputs": [
    {
     "data": {
      "text/plain": [
       "['numquam',\n",
       " 'modi',\n",
       " 'est',\n",
       " 'non',\n",
       " 'dolor',\n",
       " 'porro',\n",
       " 'quisquam',\n",
       " 'sit',\n",
       " 'tempora',\n",
       " 'labore',\n",
       " 'quaerat',\n",
       " 'eius',\n",
       " 'ut',\n",
       " 'voluptatem',\n",
       " 'dolorem',\n",
       " 'sed',\n",
       " 'dolore',\n",
       " 'consectetur',\n",
       " 'etincidunt',\n",
       " 'aliquam',\n",
       " 'quiquia',\n",
       " 'magnam',\n",
       " 'amet',\n",
       " 'neque',\n",
       " 'adipisci',\n",
       " 'ipsum',\n",
       " 'velit']"
      ]
     },
     "execution_count": 17,
     "metadata": {},
     "output_type": "execute_result"
    }
   ],
   "source": [
    "palabras_unicas=list(palabras_unicas)\n",
    "palabras_unicas"
   ]
  },
  {
   "cell_type": "markdown",
   "metadata": {},
   "source": [
    "**Calcular el número de palabras únicas**\n",
    "\n",
    "&nbsp;"
   ]
  },
  {
   "cell_type": "code",
   "execution_count": 18,
   "metadata": {},
   "outputs": [
    {
     "data": {
      "text/plain": [
       "27"
      ]
     },
     "execution_count": 18,
     "metadata": {},
     "output_type": "execute_result"
    }
   ],
   "source": [
    "len(palabras_unicas)"
   ]
  },
  {
   "cell_type": "markdown",
   "metadata": {},
   "source": [
    "**Promedio de repetición de las palabras en el texto**\n",
    "\n",
    "&nbsp;"
   ]
  },
  {
   "cell_type": "code",
   "execution_count": 19,
   "metadata": {},
   "outputs": [
    {
     "data": {
      "text/plain": [
       "8.62962962962963"
      ]
     },
     "execution_count": 19,
     "metadata": {},
     "output_type": "execute_result"
    }
   ],
   "source": [
    "len(palabras)/len(palabras_unicas)"
   ]
  },
  {
   "cell_type": "code",
   "execution_count": 20,
   "metadata": {},
   "outputs": [
    {
     "data": {
      "text/plain": [
       "8.63"
      ]
     },
     "execution_count": 20,
     "metadata": {},
     "output_type": "execute_result"
    }
   ],
   "source": [
    "round(len(palabras)/len(palabras_unicas),2)"
   ]
  },
  {
   "cell_type": "markdown",
   "metadata": {},
   "source": [
    "# 3. Cómputo de veces que aparece cada palabra en orden alfabético\n",
    "\n",
    "&nbsp;"
   ]
  },
  {
   "cell_type": "markdown",
   "metadata": {},
   "source": [
    "**Ordenar las palabras únicas alfabéticamente**\n",
    "\n",
    "&nbsp;"
   ]
  },
  {
   "cell_type": "code",
   "execution_count": 21,
   "metadata": {},
   "outputs": [
    {
     "data": {
      "text/plain": [
       "['adipisci',\n",
       " 'aliquam',\n",
       " 'amet',\n",
       " 'consectetur',\n",
       " 'dolor',\n",
       " 'dolore',\n",
       " 'dolorem',\n",
       " 'eius',\n",
       " 'est',\n",
       " 'etincidunt',\n",
       " 'ipsum',\n",
       " 'labore',\n",
       " 'magnam',\n",
       " 'modi',\n",
       " 'neque',\n",
       " 'non',\n",
       " 'numquam',\n",
       " 'porro',\n",
       " 'quaerat',\n",
       " 'quiquia',\n",
       " 'quisquam',\n",
       " 'sed',\n",
       " 'sit',\n",
       " 'tempora',\n",
       " 'ut',\n",
       " 'velit',\n",
       " 'voluptatem']"
      ]
     },
     "execution_count": 21,
     "metadata": {},
     "output_type": "execute_result"
    }
   ],
   "source": [
    "palabras_unicas.sort()\n",
    "palabras_unicas"
   ]
  },
  {
   "cell_type": "markdown",
   "metadata": {},
   "source": [
    "**Construir el diccionario**\n",
    "\n",
    "&nbsp;"
   ]
  },
  {
   "cell_type": "code",
   "execution_count": 22,
   "metadata": {},
   "outputs": [],
   "source": [
    "ocurrencias={}"
   ]
  },
  {
   "cell_type": "code",
   "execution_count": 23,
   "metadata": {},
   "outputs": [],
   "source": [
    "#Recordamos cuantas palabras únicas tenemos"
   ]
  },
  {
   "cell_type": "code",
   "execution_count": 24,
   "metadata": {},
   "outputs": [
    {
     "data": {
      "text/plain": [
       "27"
      ]
     },
     "execution_count": 24,
     "metadata": {},
     "output_type": "execute_result"
    }
   ],
   "source": [
    "len(palabras_unicas)"
   ]
  },
  {
   "cell_type": "code",
   "execution_count": 26,
   "metadata": {},
   "outputs": [],
   "source": [
    "#Rellenamos el diccionario uno a uno\n",
    "#La calve será la palabra correspondiente a cada índice\n",
    "#El valor será el recuento de esa palabra"
   ]
  },
  {
   "cell_type": "code",
   "execution_count": 27,
   "metadata": {},
   "outputs": [
    {
     "data": {
      "text/plain": [
       "{'adipisci': 7,\n",
       " 'aliquam': 4,\n",
       " 'amet': 7,\n",
       " 'consectetur': 13,\n",
       " 'dolor': 8,\n",
       " 'dolore': 9,\n",
       " 'dolorem': 11,\n",
       " 'eius': 10,\n",
       " 'est': 5,\n",
       " 'etincidunt': 7,\n",
       " 'ipsum': 10,\n",
       " 'labore': 4,\n",
       " 'magnam': 15,\n",
       " 'modi': 10,\n",
       " 'neque': 7,\n",
       " 'non': 13,\n",
       " 'numquam': 11,\n",
       " 'porro': 6,\n",
       " 'quaerat': 12,\n",
       " 'quiquia': 8,\n",
       " 'quisquam': 6,\n",
       " 'sed': 5,\n",
       " 'sit': 13,\n",
       " 'tempora': 10,\n",
       " 'ut': 4,\n",
       " 'velit': 7,\n",
       " 'voluptatem': 11}"
      ]
     },
     "execution_count": 27,
     "metadata": {},
     "output_type": "execute_result"
    }
   ],
   "source": [
    "ocurrencias[palabras_unicas[0]]=palabras.count(palabras_unicas[0])\n",
    "ocurrencias[palabras_unicas[1]]=palabras.count(palabras_unicas[1])\n",
    "ocurrencias[palabras_unicas[2]]=palabras.count(palabras_unicas[2])\n",
    "ocurrencias[palabras_unicas[3]]=palabras.count(palabras_unicas[3])\n",
    "ocurrencias[palabras_unicas[4]]=palabras.count(palabras_unicas[4])\n",
    "ocurrencias[palabras_unicas[5]]=palabras.count(palabras_unicas[5])\n",
    "ocurrencias[palabras_unicas[6]]=palabras.count(palabras_unicas[6])\n",
    "ocurrencias[palabras_unicas[7]]=palabras.count(palabras_unicas[7])\n",
    "ocurrencias[palabras_unicas[8]]=palabras.count(palabras_unicas[8])\n",
    "ocurrencias[palabras_unicas[9]]=palabras.count(palabras_unicas[9])\n",
    "ocurrencias[palabras_unicas[10]]=palabras.count(palabras_unicas[10])\n",
    "ocurrencias[palabras_unicas[11]]=palabras.count(palabras_unicas[11])\n",
    "ocurrencias[palabras_unicas[12]]=palabras.count(palabras_unicas[12])\n",
    "ocurrencias[palabras_unicas[13]]=palabras.count(palabras_unicas[13])\n",
    "ocurrencias[palabras_unicas[14]]=palabras.count(palabras_unicas[14])\n",
    "ocurrencias[palabras_unicas[15]]=palabras.count(palabras_unicas[15])\n",
    "ocurrencias[palabras_unicas[16]]=palabras.count(palabras_unicas[16])\n",
    "ocurrencias[palabras_unicas[17]]=palabras.count(palabras_unicas[17])\n",
    "ocurrencias[palabras_unicas[18]]=palabras.count(palabras_unicas[18])\n",
    "ocurrencias[palabras_unicas[19]]=palabras.count(palabras_unicas[19])\n",
    "ocurrencias[palabras_unicas[20]]=palabras.count(palabras_unicas[20])\n",
    "ocurrencias[palabras_unicas[21]]=palabras.count(palabras_unicas[21])\n",
    "ocurrencias[palabras_unicas[22]]=palabras.count(palabras_unicas[22])\n",
    "ocurrencias[palabras_unicas[23]]=palabras.count(palabras_unicas[23])\n",
    "ocurrencias[palabras_unicas[24]]=palabras.count(palabras_unicas[24])\n",
    "ocurrencias[palabras_unicas[25]]=palabras.count(palabras_unicas[25])\n",
    "ocurrencias[palabras_unicas[26]]=palabras.count(palabras_unicas[26])\n",
    "\n",
    "ocurrencias"
   ]
  },
  {
   "cell_type": "code",
   "execution_count": null,
   "metadata": {},
   "outputs": [],
   "source": []
  }
 ],
 "metadata": {
  "kernelspec": {
   "display_name": "Python 3",
   "language": "python",
   "name": "python3"
  },
  "language_info": {
   "codemirror_mode": {
    "name": "ipython",
    "version": 3
   },
   "file_extension": ".py",
   "mimetype": "text/x-python",
   "name": "python",
   "nbconvert_exporter": "python",
   "pygments_lexer": "ipython3",
   "version": "3.8.3"
  }
 },
 "nbformat": 4,
 "nbformat_minor": 4
}
